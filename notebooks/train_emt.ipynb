{
 "cells": [
  {
   "cell_type": "code",
   "execution_count": 1,
   "metadata": {},
   "outputs": [],
   "source": [
    "%load_ext autoreload\n",
    "%autoreload 2\n",
    "\n",
    "import warnings\n",
    "warnings.filterwarnings(\"ignore\")\n",
    "\n",
    "import pandas as pd\n",
    "import numpy as np\n",
    "import jax.random as random\n",
    "import pickle\n",
    "\n",
    "## Set this to disable JAX from preallocating memory\n",
    "import os\n",
    "os.environ[\"XLA_PYTHON_CLIENT_PREALLOCATE\"] = \"false\"\n",
    "\n",
    "from datasets import *\n",
    "from training_setup import *\n",
    "from training import *\n",
    "from utils import *\n",
    "from analysis_utils import *"
   ]
  },
  {
   "cell_type": "code",
   "execution_count": 2,
   "metadata": {},
   "outputs": [],
   "source": [
    "DATA_PATH=\"./\"\n",
    "SAVE_PATH=\"./\"\n",
    "MODEL_PATH=\"./\""
   ]
  },
  {
   "cell_type": "code",
   "execution_count": 3,
   "metadata": {},
   "outputs": [
    {
     "data": {
      "text/plain": [
       "((2345, 2001), (788, 2001), array([3, 4, 1, 0]), array([2]))"
      ]
     },
     "execution_count": 3,
     "metadata": {},
     "output_type": "execute_result"
    }
   ],
   "source": [
    "df = pd.read_csv(f\"{DATA_PATH}/A549_EMT_heldout_1d_tp_normalized.csv\", index_col=0)\n",
    "total_timepoints = len(df[\"time\"].unique())\n",
    "timepoint_map={k:v for k,v in zip(np.arange(total_timepoints), sorted(df[\"time\"].unique()))}\n",
    "rev_timepoint_map={k:v for k,v in zip(sorted(df[\"time\"].unique()), np.arange(total_timepoints))}\n",
    "df[\"time\"] = df[\"time\"].map(rev_timepoint_map)\n",
    "\n",
    "train_tps_idx = [0,1,3,4]\n",
    "val_tps_idx = [2]\n",
    "\n",
    "train_tps = train_tps_idx\n",
    "val_tps = val_tps_idx\n",
    "\n",
    "timepoints_sorted =  sorted(df[\"time\"].unique().tolist())\n",
    "    \n",
    "train_data = df[df[\"time\"].isin(train_tps)].iloc[:,:]\n",
    "val_data = df[df[\"time\"].isin(val_tps)].iloc[:,:]\n",
    "\n",
    "z_score=True\n",
    "\n",
    "if z_score:\n",
    "    train_data = z_score_norm(train_data)\n",
    "    val_data = z_score_norm(val_data)\n",
    "\n",
    "train_data.shape, val_data.shape, train_data[\"time\"].unique(), val_data[\"time\"].unique()"
   ]
  },
  {
   "cell_type": "code",
   "execution_count": 4,
   "metadata": {},
   "outputs": [
    {
     "data": {
      "text/plain": [
       "array([3, 4, 1, 0, 2])"
      ]
     },
     "execution_count": 4,
     "metadata": {},
     "output_type": "execute_result"
    }
   ],
   "source": [
    "df[\"time\"].unique()"
   ]
  },
  {
   "cell_type": "code",
   "execution_count": 20,
   "metadata": {},
   "outputs": [],
   "source": [
    "#tuned params\n",
    "train=True\n",
    "\n",
    "vae_latent_dim=50\n",
    "vae_enc_hidden_dim=vae_dec_hidden_dim=[256,128]\n",
    "vae_input_dim=train_data.iloc[:,:-1].shape[-1]\n",
    "t_dim=16\n",
    "lr=1e-4\n",
    "vae_lr=1e-4\n",
    "ferryman_lr=1e-4\n",
    "\n",
    "dec_hidden_dim=200\n",
    "td_sched=2\n",
    "vae_epochs=100\n",
    "epochs=10\n",
    "num_sde=10\n",
    "paths_reuse=5\n",
    "steps_num=100\n",
    "batch_size=64\n",
    "vae_batch_size=64\n",
    "death_importance_rate=100\n",
    "ferryman_hidden_dim=64\n",
    "vae_t_dim=8\n",
    "f_val=2\n",
    "\n",
    "\n",
    "if train:\n",
    "    \n",
    "    train_dataset = Input_Dataset(x=train_data, meta=None, meta_celltype_column=None, splitting_births_frac=0.9,\n",
    "                            steps_num=steps_num, val_split=False, death_importance_rate=death_importance_rate, f_val=f_val)\n",
    "\n",
    "    ts = Training_Setup(dataset=train_dataset, dataset_name=\"EMT\", hidden_dim=[dec_hidden_dim, dec_hidden_dim], \n",
    "                        dec_hidden_size=[dec_hidden_dim,dec_hidden_dim,1],vae_epochs=vae_epochs, \n",
    "                        epochs=epochs,  num_sde=num_sde, paths_reuse=paths_reuse, reality_coefficient=0.2, \n",
    "                        ipf_mask_dead=True, t_dim=t_dim, batch_size=batch_size, vae_batch_size=vae_batch_size,\n",
    "                        vae_input_dim=vae_input_dim, vae_enc_hidden_dim=vae_enc_hidden_dim, vae_dec_hidden_dim=vae_dec_hidden_dim,\n",
    "                        vae_latent_dim=vae_latent_dim,ferryman_hidden_dim=[ferryman_hidden_dim, ferryman_hidden_dim])\n",
    "\n",
    "    tr = Trainer(dataset=train_dataset, ts=ts,key=random.PRNGKey(0), lr=lr, vae_lr=vae_lr, ferryman_lr=ferryman_lr, ferryman_coeff=1)\n",
    "\n",
    "    tr_model = tr.train(td_schedule=[1]*td_sched, project_name=\"EMT\")\n",
    "\n",
    "    train_recon, train_latent, val_recon, val_latent = get_model_latents(train_data, val_data, ts, tr_model)\n",
    " \n",
    "\n",
    "else:\n",
    "    train_dataset = Input_Dataset(x=train_data, meta=None, meta_celltype_column=None, splitting_births_frac=0.9,\n",
    "                            steps_num=steps_num, val_split=False, death_importance_rate=death_importance_rate, f_val=f_val)\n",
    "\n",
    "    ts = Training_Setup(dataset=train_dataset, dataset_name=\"EMT\", hidden_dim=[dec_hidden_dim, dec_hidden_dim], \n",
    "                        dec_hidden_size=[dec_hidden_dim,dec_hidden_dim,1],vae_epochs=vae_epochs, \n",
    "                        epochs=epochs,  num_sde=num_sde, paths_reuse=paths_reuse, reality_coefficient=0.2, \n",
    "                        ipf_mask_dead=True, t_dim=t_dim, batch_size=batch_size, vae_batch_size=vae_batch_size,\n",
    "                        vae_input_dim=vae_input_dim, vae_enc_hidden_dim=vae_enc_hidden_dim, vae_dec_hidden_dim=vae_dec_hidden_dim,\n",
    "                        vae_latent_dim=vae_latent_dim,ferryman_hidden_dim=[ferryman_hidden_dim, ferryman_hidden_dim])\n",
    "\n",
    "    tr = Trainer(dataset=train_dataset, ts=ts,key=random.PRNGKey(0), lr=lr, vae_lr=vae_lr, ferryman_lr=ferryman_lr, ferryman_coeff=1)\n",
    "\n",
    "    with open(f\"{MODEL_PATH}/train_emt_1d_heldout_z_scored.pkl\",\"rb\") as f:\n",
    "        model_params = pickle.load(f)\n",
    "        \n",
    "    tr_model = tr\n",
    "    tr_model.vae_params = model_params[\"vae_params\"]\n",
    "    tr_model.training_setup.state[1][\"forward\"] = model_params[\"forward\"]\n",
    "    tr_model.training_setup.state[1][\"backward\"] = model_params[\"backward\"]\n",
    "    tr_model.training_setup.state[1][\"ferryman\"] = model_params[\"ferryman\"]\n",
    "    train_recon, train_latent, val_recon, val_latent = get_model_latents(train_data, val_data, ts, tr_model)\n",
    "    train_dataset.update_data_info(train_latent, None)\n",
    "    ts.sde.killer = train_dataset.killing_function()"
   ]
  },
  {
   "cell_type": "code",
   "execution_count": 32,
   "metadata": {},
   "outputs": [
    {
     "name": "stdout",
     "output_type": "stream",
     "text": [
      "w2    45.120541\n",
      "dtype: float64 w2    0.030677\n",
      "dtype: float64\n"
     ]
    }
   ],
   "source": [
    "# Calculate prediction performance\n",
    "# 1. Predict 5 trajectories from trained model\n",
    "predictions, predictions_all = get_predictions(train_data, val_data, train_tps, val_tps,\n",
    "                              train_dataset,train_latent,timepoints_sorted,tr_model,ts,\n",
    "                              vae_input_dim, vae_dec_hidden_dim,vae_latent_dim, t_0_orig=train_tps[0])\n",
    "simulations = predictions[\"simulations\"]\n",
    "#2. Get average wasserstein-2 distance on each validation timepoint\n",
    "for t in val_tps:\n",
    "    perf_df = get_metrics(simulations, val_data[val_data[\"time\"]==t].values[:,:-1],t)\n",
    "    print (\"t =\",t,\":\",perf_df.mean()['w2'],\"+-\", perf_df.std()['w2'])"
   ]
  },
  {
   "cell_type": "code",
   "execution_count": null,
   "metadata": {},
   "outputs": [],
   "source": [
    "save_predictions_model_params=False\n",
    "if save_predictions_model_params:\n",
    "    with open(f\"{SAVE_PATH}/predicted_trajectories.pkl\",\"wb\") as f:\n",
    "        pickle.dump(predictions,f,protocol=pickle.HIGHEST_PROTOCOL)\n",
    "\n",
    "    model_params = {\n",
    "    \"vae_params\": tr_model.vae_params,\n",
    "    \"forward\": tr_model.training_setup.state[1][\"forward\"],\n",
    "    \"backward\": tr_model.training_setup.state[1][\"backward\"],\n",
    "    \"ferryman\": tr_model.training_setup.state[1][\"ferryman\"],\n",
    "    \"config\": tr_model.get_model_configs(),\n",
    "    }\n",
    "    with open(f\"{SAVE_PATH}/model_params.pkl\",\"wb\") as f:\n",
    "        pickle.dump(model_params,f,protocol=pickle.HIGHEST_PROTOCOL)"
   ]
  },
  {
   "cell_type": "code",
   "execution_count": null,
   "metadata": {},
   "outputs": [],
   "source": []
  }
 ],
 "metadata": {
  "kernelspec": {
   "display_name": "ARTEMIS_venv",
   "language": "python",
   "name": "python3"
  },
  "language_info": {
   "codemirror_mode": {
    "name": "ipython",
    "version": 3
   },
   "file_extension": ".py",
   "mimetype": "text/x-python",
   "name": "python",
   "nbconvert_exporter": "python",
   "pygments_lexer": "ipython3",
   "version": "3.10.14"
  }
 },
 "nbformat": 4,
 "nbformat_minor": 2
}
