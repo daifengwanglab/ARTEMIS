{
 "cells": [
  {
   "cell_type": "code",
   "execution_count": 6,
   "metadata": {},
   "outputs": [
    {
     "name": "stdout",
     "output_type": "stream",
     "text": [
      "The autoreload extension is already loaded. To reload it, use:\n",
      "  %reload_ext autoreload\n"
     ]
    }
   ],
   "source": [
    "%load_ext autoreload\n",
    "%autoreload 2\n",
    "\n",
    "import warnings\n",
    "warnings.filterwarnings(\"ignore\")"
   ]
  },
  {
   "cell_type": "code",
   "execution_count": 7,
   "metadata": {},
   "outputs": [],
   "source": [
    "import pandas as pd\n",
    "import numpy as np\n",
    "import anndata as ad\n",
    "import scanpy as sc"
   ]
  },
  {
   "cell_type": "code",
   "execution_count": 8,
   "metadata": {},
   "outputs": [],
   "source": [
    "def normalize_adata(adata, hvg_genes=2000):\n",
    "    adata.layers[\"counts\"] = adata.X.copy()\n",
    "    sc.pp.normalize_total(adata)\n",
    "    sc.pp.log1p(adata)\n",
    "    sc.pp.highly_variable_genes(adata, n_top_genes=hvg_genes)\n",
    "    if hvg_genes is not None:\n",
    "        return adata[:,adata.var[\"highly_variable\"]]\n",
    "    return adata"
   ]
  },
  {
   "cell_type": "code",
   "execution_count": 22,
   "metadata": {},
   "outputs": [],
   "source": [
    "data_name=\"pancreatic\"\n",
    "DATA_PATH=\"./\"\n",
    "SAVE_PATH=\"./\""
   ]
  },
  {
   "cell_type": "code",
   "execution_count": 23,
   "metadata": {},
   "outputs": [],
   "source": [
    "if data_name==\"zebrafish\":\n",
    "    counts = pd.read_csv(f\"{DATA_PATH}/three_interpolation-count_data-hvg.csv\", header=0, index_col=0)\n",
    "    meta = pd.read_csv(f\"{DATA_PATH}/meta_data.csv\", header=0, index_col=0)\n",
    "    heldout_tp = [5.3,7,9]\n",
    "    adata=ad.AnnData(counts.values, obs=pd.DataFrame(counts.index, index=counts.index, columns=[\"cells\"]), var =pd.DataFrame(counts.columns,index=counts.columns, columns=[\"gene\"]))\n",
    "    adata.obs[\"time\"] = meta[\"HPF\"].to_list()\n",
    "\n",
    "elif data_name==\"EMT\":\n",
    "    counts = pd.read_csv(f\"{DATA_PATH}/count_data.csv\", index_col=0).T\n",
    "    meta=pd.read_csv(f\"{DATA_PATH}/meta_data.csv\", index_col=0)\n",
    "    heldout_tp = [\"1d\"]\n",
    "    adata=ad.AnnData(counts.values, obs=pd.DataFrame(counts.index, index=counts.index, columns=[\"cells\"]), var =pd.DataFrame(counts.columns,index=counts.columns, columns=[\"gene\"]))\n",
    "    adata.obs[\"time\"] = meta[\"x\"].to_list()\n",
    "    adata = adata[adata.obs[\"time\"].isin(['3d', '7d', '1d','8h', '0d'])]\n",
    "\n",
    "elif data_name==\"pancreatic\":\n",
    "    counts = pd.read_csv(f\"{DATA_PATH}/data\",sep=\"\\t\", index_col=\"# library.barcode\")\n",
    "    meta=pd.read_csv(f\"{DATA_PATH}/GSE114412_Stage_5.all.cell_metadata.tsv\", index_col=\"library.barcode\", sep=\"\\t\")\n",
    "    heldout_tp=[3,6]\n",
    "    adata=ad.AnnData(counts.values, obs=pd.DataFrame(counts.index, index=counts.index, columns=[\"cells\"]), var =pd.DataFrame(counts.columns,index=counts.columns, columns=[\"gene\"]))\n",
    "    adata.obs[\"time\"] = meta[\"CellWeek\"].to_list()"
   ]
  },
  {
   "cell_type": "code",
   "execution_count": 24,
   "metadata": {},
   "outputs": [],
   "source": [
    "total_timepoints = len(adata.obs[\"time\"].unique())"
   ]
  },
  {
   "cell_type": "code",
   "execution_count": 25,
   "metadata": {},
   "outputs": [],
   "source": [
    "adata_sub = adata[~adata.obs[\"time\"].isin(heldout_tp)]\n",
    "adata_sub = normalize_adata(adata_sub)\n",
    "adata_he = adata[adata.obs[\"time\"].isin(heldout_tp)]\n",
    "adata_he = normalize_adata(adata_he, hvg_genes=None)\n",
    "adata_he = adata_he[:,adata_sub.var.index]\n",
    "\n",
    "df = pd.DataFrame(np.concatenate((adata_sub.X, adata_he.X)), columns=adata_sub.var.index)\n",
    "df.index = adata_sub.obs.index.tolist()+adata_he.obs.index.tolist()\n",
    "df[\"time\"] = adata_sub.obs[\"time\"].to_list()+ adata_he.obs[\"time\"].to_list()\n",
    "\n",
    "# if data_name==\"EMT\":\n",
    "#     timepoint_map={\"0d\":0,\"8h\":1,\"1d\":2,\"3d\":3,\"7d\":4}\n",
    "# else:\n",
    "#     timepoint_map={k:v for k,v in zip(np.arange(total_timepoints), sorted(adata.obs[\"time\"].unique()))}\n",
    "#     rev_timepoint_map={k:v for k,v in zip(df[\"time\"].unique(), np.arange(total_timepoints))}\n",
    "# df[\"time\"] = df[\"time\"].map(rev_timepoint_map)"
   ]
  },
  {
   "cell_type": "code",
   "execution_count": 13,
   "metadata": {},
   "outputs": [],
   "source": [
    "# df.to_csv(f\"{SAVE_PATH}/preprocessed_data.csv\")"
   ]
  }
 ],
 "metadata": {
  "kernelspec": {
   "display_name": "Python 3",
   "language": "python",
   "name": "python3"
  },
  "language_info": {
   "codemirror_mode": {
    "name": "ipython",
    "version": 3
   },
   "file_extension": ".py",
   "mimetype": "text/x-python",
   "name": "python",
   "nbconvert_exporter": "python",
   "pygments_lexer": "ipython3",
   "version": "3.10.14"
  }
 },
 "nbformat": 4,
 "nbformat_minor": 2
}
